{
  "cells": [
    {
      "cell_type": "code",
      "execution_count": 6,
      "metadata": {
        "id": "Lj15nWIQiZtn",
        "outputId": "db578a75-70c4-4b4a-c3a3-d4abb6054f25",
        "colab": {
          "base_uri": "https://localhost:8080/"
        }
      },
      "outputs": [
        {
          "output_type": "stream",
          "name": "stdout",
          "text": [
            "Hello datasciance\n",
            "testing colab with github\n"
          ]
        }
      ],
      "source": [
        "print('Hello datasciance')\n",
        "print('testing colab with github')"
      ]
    }
  ],
  "metadata": {
    "language_info": {
      "name": "python"
    },
    "colab": {
      "provenance": []
    },
    "kernelspec": {
      "name": "python3",
      "display_name": "Python 3"
    }
  },
  "nbformat": 4,
  "nbformat_minor": 0
}